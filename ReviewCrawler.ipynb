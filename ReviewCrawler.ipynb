{
 "cells": [
  {
   "cell_type": "markdown",
   "id": "7cbd6d11",
   "metadata": {},
   "source": [
    "## Date : 1st July 2022\n",
    "## Author : CJ\n",
    "## Task : Create a web crawler that gets the reviews of top ten competetors from playstore"
   ]
  },
  {
   "cell_type": "markdown",
   "id": "9750b418",
   "metadata": {},
   "source": [
    "Okay so lets start this. Im waiting for Siddharth to send me the document so till I get that, Im gonna try spamming google playstore site with requests to try and see if they block me. Lets just hope I dont get flagged lol."
   ]
  },
  {
   "cell_type": "code",
   "execution_count": 2,
   "id": "4d7488ab",
   "metadata": {},
   "outputs": [],
   "source": [
    "import requests\n",
    "from requests.exceptions import ConnectionError\n",
    "from bs4 import BeautifulSoup as bs\n",
    "import urllib.parse\n",
    "import pandas as pd\n",
    "import numpy as np\n",
    "from selenium.webdriver.common.keys import Keys\n",
    "from selenium.webdriver.common.action_chains import ActionChains"
   ]
  },
  {
   "cell_type": "code",
   "execution_count": 19,
   "id": "b1d779e8",
   "metadata": {
    "scrolled": true
   },
   "outputs": [],
   "source": [
    "# Lets just pause it for right now, I can add the companies manually\n",
    "# df = pd.read_csv('Datasets/Competitor Intelligence.csv')\n",
    "# listOfCompanies = df.columns.to_list()[3:]\n",
    "# print(listOfCompanies)\n",
    "listOfCompanies = ['INDwealth', 'Paytm Money', 'Groww', 'Wizely', 'Goalwise ', 'Scripbox', 'Orowealth', 'Cube Wealth', 'Fisdom', 'FundsIndia', 'Wealthy', 'Sqrrl', 'Arthayantra', 'Fintoo', 'ET Money', 'Dezerve', 'Kuvera']"
   ]
  },
  {
   "cell_type": "code",
   "execution_count": 22,
   "id": "812fa157",
   "metadata": {},
   "outputs": [],
   "source": [
    "def findIds(listOfCompanies, debug=False):\n",
    "    if debug:\n",
    "        print(\"Trying to find Ids for apps:\")\n",
    "    baseUrl = 'https://www.google.com/search?q='\n",
    "    ids = {}\n",
    "    for company in listOfCompanies:\n",
    "        url = baseUrl+company+'playstore'+'reviews'+'finance'\n",
    "        ids[company] = []\n",
    "        try:\n",
    "            response = requests.get(url)\n",
    "            content = bs(response.text, \"lxml\")\n",
    "            div_content = content.find_all('a')\n",
    "            if debug:\n",
    "                print(\"Hit : \"+company)\n",
    "            for ele in div_content:\n",
    "                for word in str(ele).split():\n",
    "                    if \"https://play.google.com/\" in word:\n",
    "                        ansUrl = urllib.parse.unquote_plus(ele['href'])\n",
    "                        initial = ansUrl.find('id=')\n",
    "                        final = ansUrl[initial:].find('&')\n",
    "                        if debug:\n",
    "                            print(\"appending\")\n",
    "                        ids[company].append(ansUrl[initial+3: initial+final])\n",
    "        except ConnectionError:\n",
    "            if debug:\n",
    "                print(\"Miss : \"+company)\n",
    "                print(\"URL trid : \"+url)\n",
    "            \n",
    "    return ids"
   ]
  },
  {
   "cell_type": "markdown",
   "id": "37d187f1",
   "metadata": {},
   "source": [
    "Okay, finally made it to work. So basically this function takes a list of companies and then does a google search for them. I take the first 10 links and see if there are any links going to the playstore website from there. Then I just take the app id from those links and add them to the dictionary.\n",
    "\n",
    "Now for the next task, Im going to try and hit all those playstore pages using those ids."
   ]
  },
  {
   "cell_type": "markdown",
   "id": "657555ab",
   "metadata": {},
   "source": [
    "Amazing, all hits, ill now create a parser and try to get reviews."
   ]
  },
  {
   "cell_type": "markdown",
   "id": "7a681733",
   "metadata": {},
   "source": [
    "EOD-----------------------------------------------------------------------------------------------------------------"
   ]
  },
  {
   "cell_type": "markdown",
   "id": "19218751",
   "metadata": {},
   "source": [
    "Date : 2nd July 2022"
   ]
  },
  {
   "cell_type": "markdown",
   "id": "df6af4d9",
   "metadata": {},
   "source": [
    "Okay so a recap, my laptop crashed and some shit just got lost, but it was just testing data. So I have to type this log again. I tried getting reviews from requests, but those guys encrypted it, so that was a dead end (unless I spend time decrypting it <i> Note to self, try maybe writing a decryption algo later</i>)"
   ]
  },
  {
   "cell_type": "markdown",
   "id": "0518cb3c",
   "metadata": {},
   "source": [
    "Anyway, Ashutosh suggested that I should look into selenium so I did that, and damn this thing is powerful. I should try automating tinder with this later. But back to the topic, I read a few posts about it, and I think this can work. Also why cant the traffic in Bangalore stay constant dude, I left early cos I thought there would be traffic but apparantly I arrived too early, but gladly Kumar was here, and hes an amazing person, so I was not bored."
   ]
  },
  {
   "cell_type": "markdown",
   "id": "b7df0b5f",
   "metadata": {},
   "source": [
    "Okay update time, I could have worked from home, cos apparantly not many people come on saturdays ffs. But anyway, the selenium thing is working fine, and now its time to integrate it with the links part of the code. But now that I think about it, dude i could have gotten links in just a few lines by using selenium lol, but anyway, my way is muchhhhhh more faster, so cheers."
   ]
  },
  {
   "cell_type": "code",
   "execution_count": 23,
   "id": "956c4a65",
   "metadata": {},
   "outputs": [],
   "source": [
    "from selenium import webdriver\n",
    "import time\n",
    "from bs4 import BeautifulSoup as bs"
   ]
  },
  {
   "cell_type": "code",
   "execution_count": 24,
   "id": "a90e08b7",
   "metadata": {},
   "outputs": [],
   "source": [
    "#Only needed cos I was dumb enough to use kali for everyday-use\n",
    "drivLoc = '/usr/bin/chromedriver'\n",
    "binLoc = '/usr/bin/google-chrome'"
   ]
  },
  {
   "cell_type": "code",
   "execution_count": 25,
   "id": "f75a3576",
   "metadata": {},
   "outputs": [],
   "source": [
    "options = webdriver.ChromeOptions()\n",
    "options.binary_location = binLoc\n",
    "#To run without browser\n",
    "# options.add_argument('headless')"
   ]
  },
  {
   "cell_type": "code",
   "execution_count": 42,
   "id": "fbc02d61",
   "metadata": {},
   "outputs": [],
   "source": [
    "def getReviewsObj(idDict, depth, debug=False):\n",
    "    if debug:\n",
    "        print(\"Trying to fetch reviews:\")\n",
    "    reviewDict = {}\n",
    "    driver = webdriver.Chrome(executable_path=drivLoc, options=options)\n",
    "    for company, ids in idDict.items():\n",
    "        for id in ids:\n",
    "            if company not in reviewDict:\n",
    "                try:\n",
    "                    reviewDict[company]=[]\n",
    "                    url = 'https://play.google.com/store/apps/details?id='+id\n",
    "                    driver.get(url)\n",
    "                    arrow = driver.find_element_by_xpath('/html/body/c-wiz[2]/div/div/div[1]/div[2]/div/div[1]/c-wiz[4]/section/header/div/div[2]/button/i')\n",
    "                    arrow.click()\n",
    "                    reviews = driver.find_element_by_css_selector('.VfPpkd-cnG4Wd > div:nth-child(1)')\n",
    "                    time.sleep(1)\n",
    "                    crawlWriter = open('reviewData/'+company, 'a')\n",
    "                    actions = ActionChains(driver)\n",
    "                    actions.click(reviews)\n",
    "                    prevLen = 0 \n",
    "                    i=0\n",
    "                    j=0\n",
    "                    while i<depth:\n",
    "                        if j > 20*depth:\n",
    "                            break\n",
    "                        actions.send_keys(Keys.PAGE_DOWN).perform()\n",
    "                        j+=1\n",
    "                        reviewsList = bs(reviews.get_attribute('innerHTML')).find_all('div', {'class':'RHo1pe'})#\n",
    "                        if len(reviewsList) > prevLen:\n",
    "                            time.sleep(0.5)\n",
    "                            for review in reviewsList[prevLen:]:\n",
    "                                crawlWriter.write(\"%s\\n\" % review)\n",
    "                            prevLen = len(reviewsList)\n",
    "                            i+=1\n",
    "                        time.sleep(0.1)\n",
    "                    if debug:\n",
    "                        print(\"HIT : \"+id)\n",
    "                        print(reviews.text[:20])\n",
    "                except:\n",
    "                    if debug:\n",
    "                        print(\"FUCKED : \"+id)\n",
    "    time.sleep(3)\n",
    "    driver.quit()\n",
    "                        \n",
    "    return reviewDict"
   ]
  },
  {
   "cell_type": "code",
   "execution_count": 41,
   "id": "41c3180a",
   "metadata": {},
   "outputs": [
    {
     "name": "stderr",
     "output_type": "stream",
     "text": [
      "/tmp/ipykernel_17746/2125726736.py:5: DeprecationWarning: executable_path has been deprecated, please pass in a Service object\n",
      "  driver = webdriver.Chrome(executable_path=drivLoc, options=options)\n"
     ]
    },
    {
     "ename": "NoSuchElementException",
     "evalue": "Message: no such element: Unable to locate element: {\"method\":\"xpath\",\"selector\":\"/html/body/c-wiz[2]/div/div/div[1]/div[2]/div/div[1]/c-wiz[4]/section/header/div/div[2]/button/i\"}\n  (Session info: chrome=103.0.5060.53)\n",
     "output_type": "error",
     "traceback": [
      "\u001b[0;31m---------------------------------------------------------------------------\u001b[0m",
      "\u001b[0;31mNoSuchElementException\u001b[0m                    Traceback (most recent call last)",
      "\u001b[0;32m/tmp/ipykernel_17746/380754119.py\u001b[0m in \u001b[0;36m<module>\u001b[0;34m\u001b[0m\n\u001b[1;32m      2\u001b[0m \u001b[0mreviewDict\u001b[0m \u001b[0;34m=\u001b[0m \u001b[0;34m{\u001b[0m\u001b[0;34m}\u001b[0m\u001b[0;34m\u001b[0m\u001b[0;34m\u001b[0m\u001b[0m\n\u001b[1;32m      3\u001b[0m \u001b[0midDict\u001b[0m \u001b[0;34m=\u001b[0m \u001b[0mfindIds\u001b[0m\u001b[0;34m(\u001b[0m\u001b[0mlistOfCompanies\u001b[0m\u001b[0;34m)\u001b[0m\u001b[0;34m\u001b[0m\u001b[0;34m\u001b[0m\u001b[0m\n\u001b[0;32m----> 4\u001b[0;31m \u001b[0mgetReviewsObj\u001b[0m\u001b[0;34m(\u001b[0m\u001b[0midDict\u001b[0m\u001b[0;34m,\u001b[0m \u001b[0;36m3\u001b[0m\u001b[0;34m)\u001b[0m\u001b[0;34m\u001b[0m\u001b[0;34m\u001b[0m\u001b[0m\n\u001b[0m\u001b[1;32m      5\u001b[0m \u001b[0mend\u001b[0m \u001b[0;34m=\u001b[0m \u001b[0mtime\u001b[0m\u001b[0;34m.\u001b[0m\u001b[0mtime\u001b[0m\u001b[0;34m(\u001b[0m\u001b[0;34m)\u001b[0m\u001b[0;34m\u001b[0m\u001b[0;34m\u001b[0m\u001b[0m\n\u001b[1;32m      6\u001b[0m \u001b[0mprint\u001b[0m\u001b[0;34m(\u001b[0m\u001b[0;34m\"Exectution time: \"\u001b[0m\u001b[0;34m+\u001b[0m\u001b[0mstr\u001b[0m\u001b[0;34m(\u001b[0m\u001b[0mend\u001b[0m\u001b[0;34m-\u001b[0m\u001b[0mstart\u001b[0m\u001b[0;34m)\u001b[0m\u001b[0;34m)\u001b[0m\u001b[0;34m\u001b[0m\u001b[0;34m\u001b[0m\u001b[0m\n",
      "\u001b[0;32m/tmp/ipykernel_17746/2125726736.py\u001b[0m in \u001b[0;36mgetReviewsObj\u001b[0;34m(idDict, depth, debug)\u001b[0m\n\u001b[1;32m     11\u001b[0m                     \u001b[0murl\u001b[0m \u001b[0;34m=\u001b[0m \u001b[0;34m'https://play.google.com/store/apps/details?id='\u001b[0m\u001b[0;34m+\u001b[0m\u001b[0mid\u001b[0m\u001b[0;34m\u001b[0m\u001b[0;34m\u001b[0m\u001b[0m\n\u001b[1;32m     12\u001b[0m                     \u001b[0mdriver\u001b[0m\u001b[0;34m.\u001b[0m\u001b[0mget\u001b[0m\u001b[0;34m(\u001b[0m\u001b[0murl\u001b[0m\u001b[0;34m)\u001b[0m\u001b[0;34m\u001b[0m\u001b[0;34m\u001b[0m\u001b[0m\n\u001b[0;32m---> 13\u001b[0;31m                     \u001b[0marrow\u001b[0m \u001b[0;34m=\u001b[0m \u001b[0mdriver\u001b[0m\u001b[0;34m.\u001b[0m\u001b[0mfind_element_by_xpath\u001b[0m\u001b[0;34m(\u001b[0m\u001b[0;34m'/html/body/c-wiz[2]/div/div/div[1]/div[2]/div/div[1]/c-wiz[4]/section/header/div/div[2]/button/i'\u001b[0m\u001b[0;34m)\u001b[0m\u001b[0;34m\u001b[0m\u001b[0;34m\u001b[0m\u001b[0m\n\u001b[0m\u001b[1;32m     14\u001b[0m                     \u001b[0marrow\u001b[0m\u001b[0;34m.\u001b[0m\u001b[0mclick\u001b[0m\u001b[0;34m(\u001b[0m\u001b[0;34m)\u001b[0m\u001b[0;34m\u001b[0m\u001b[0;34m\u001b[0m\u001b[0m\n\u001b[1;32m     15\u001b[0m                     \u001b[0mreviews\u001b[0m \u001b[0;34m=\u001b[0m \u001b[0mdriver\u001b[0m\u001b[0;34m.\u001b[0m\u001b[0mfind_element_by_css_selector\u001b[0m\u001b[0;34m(\u001b[0m\u001b[0;34m'.VfPpkd-cnG4Wd > div:nth-child(1)'\u001b[0m\u001b[0;34m)\u001b[0m\u001b[0;34m\u001b[0m\u001b[0;34m\u001b[0m\u001b[0m\n",
      "\u001b[0;32m/usr/lib/python3/dist-packages/selenium/webdriver/remote/webdriver.py\u001b[0m in \u001b[0;36mfind_element_by_xpath\u001b[0;34m(self, xpath)\u001b[0m\n\u001b[1;32m    397\u001b[0m                 \u001b[0melement\u001b[0m \u001b[0;34m=\u001b[0m \u001b[0mdriver\u001b[0m\u001b[0;34m.\u001b[0m\u001b[0mfind_element_by_xpath\u001b[0m\u001b[0;34m(\u001b[0m\u001b[0;34m'//div/td[1]'\u001b[0m\u001b[0;34m)\u001b[0m\u001b[0;34m\u001b[0m\u001b[0;34m\u001b[0m\u001b[0m\n\u001b[1;32m    398\u001b[0m         \"\"\"\n\u001b[0;32m--> 399\u001b[0;31m         \u001b[0;32mreturn\u001b[0m \u001b[0mself\u001b[0m\u001b[0;34m.\u001b[0m\u001b[0mfind_element\u001b[0m\u001b[0;34m(\u001b[0m\u001b[0mby\u001b[0m\u001b[0;34m=\u001b[0m\u001b[0mBy\u001b[0m\u001b[0;34m.\u001b[0m\u001b[0mXPATH\u001b[0m\u001b[0;34m,\u001b[0m \u001b[0mvalue\u001b[0m\u001b[0;34m=\u001b[0m\u001b[0mxpath\u001b[0m\u001b[0;34m)\u001b[0m\u001b[0;34m\u001b[0m\u001b[0;34m\u001b[0m\u001b[0m\n\u001b[0m\u001b[1;32m    400\u001b[0m \u001b[0;34m\u001b[0m\u001b[0m\n\u001b[1;32m    401\u001b[0m     \u001b[0;32mdef\u001b[0m \u001b[0mfind_elements_by_xpath\u001b[0m\u001b[0;34m(\u001b[0m\u001b[0mself\u001b[0m\u001b[0;34m,\u001b[0m \u001b[0mxpath\u001b[0m\u001b[0;34m)\u001b[0m\u001b[0;34m:\u001b[0m\u001b[0;34m\u001b[0m\u001b[0;34m\u001b[0m\u001b[0m\n",
      "\u001b[0;32m/usr/lib/python3/dist-packages/selenium/webdriver/remote/webdriver.py\u001b[0m in \u001b[0;36mfind_element\u001b[0;34m(self, by, value)\u001b[0m\n\u001b[1;32m   1010\u001b[0m                 \u001b[0mby\u001b[0m \u001b[0;34m=\u001b[0m \u001b[0mBy\u001b[0m\u001b[0;34m.\u001b[0m\u001b[0mCSS_SELECTOR\u001b[0m\u001b[0;34m\u001b[0m\u001b[0;34m\u001b[0m\u001b[0m\n\u001b[1;32m   1011\u001b[0m                 \u001b[0mvalue\u001b[0m \u001b[0;34m=\u001b[0m \u001b[0;34m'[name=\"%s\"]'\u001b[0m \u001b[0;34m%\u001b[0m \u001b[0mvalue\u001b[0m\u001b[0;34m\u001b[0m\u001b[0;34m\u001b[0m\u001b[0m\n\u001b[0;32m-> 1012\u001b[0;31m         return self.execute(Command.FIND_ELEMENT, {\n\u001b[0m\u001b[1;32m   1013\u001b[0m             \u001b[0;34m'using'\u001b[0m\u001b[0;34m:\u001b[0m \u001b[0mby\u001b[0m\u001b[0;34m,\u001b[0m\u001b[0;34m\u001b[0m\u001b[0;34m\u001b[0m\u001b[0m\n\u001b[1;32m   1014\u001b[0m             'value': value})['value']\n",
      "\u001b[0;32m/usr/lib/python3/dist-packages/selenium/webdriver/remote/webdriver.py\u001b[0m in \u001b[0;36mexecute\u001b[0;34m(self, driver_command, params)\u001b[0m\n\u001b[1;32m    316\u001b[0m         \u001b[0mresponse\u001b[0m \u001b[0;34m=\u001b[0m \u001b[0mself\u001b[0m\u001b[0;34m.\u001b[0m\u001b[0mcommand_executor\u001b[0m\u001b[0;34m.\u001b[0m\u001b[0mexecute\u001b[0m\u001b[0;34m(\u001b[0m\u001b[0mdriver_command\u001b[0m\u001b[0;34m,\u001b[0m \u001b[0mparams\u001b[0m\u001b[0;34m)\u001b[0m\u001b[0;34m\u001b[0m\u001b[0;34m\u001b[0m\u001b[0m\n\u001b[1;32m    317\u001b[0m         \u001b[0;32mif\u001b[0m \u001b[0mresponse\u001b[0m\u001b[0;34m:\u001b[0m\u001b[0;34m\u001b[0m\u001b[0;34m\u001b[0m\u001b[0m\n\u001b[0;32m--> 318\u001b[0;31m             \u001b[0mself\u001b[0m\u001b[0;34m.\u001b[0m\u001b[0merror_handler\u001b[0m\u001b[0;34m.\u001b[0m\u001b[0mcheck_response\u001b[0m\u001b[0;34m(\u001b[0m\u001b[0mresponse\u001b[0m\u001b[0;34m)\u001b[0m\u001b[0;34m\u001b[0m\u001b[0;34m\u001b[0m\u001b[0m\n\u001b[0m\u001b[1;32m    319\u001b[0m             response['value'] = self._unwrap_value(\n\u001b[1;32m    320\u001b[0m                 response.get('value', None))\n",
      "\u001b[0;32m/usr/lib/python3/dist-packages/selenium/webdriver/remote/errorhandler.py\u001b[0m in \u001b[0;36mcheck_response\u001b[0;34m(self, response)\u001b[0m\n\u001b[1;32m    240\u001b[0m                 \u001b[0malert_text\u001b[0m \u001b[0;34m=\u001b[0m \u001b[0mvalue\u001b[0m\u001b[0;34m[\u001b[0m\u001b[0;34m'alert'\u001b[0m\u001b[0;34m]\u001b[0m\u001b[0;34m.\u001b[0m\u001b[0mget\u001b[0m\u001b[0;34m(\u001b[0m\u001b[0;34m'text'\u001b[0m\u001b[0;34m)\u001b[0m\u001b[0;34m\u001b[0m\u001b[0;34m\u001b[0m\u001b[0m\n\u001b[1;32m    241\u001b[0m             \u001b[0;32mraise\u001b[0m \u001b[0mexception_class\u001b[0m\u001b[0;34m(\u001b[0m\u001b[0mmessage\u001b[0m\u001b[0;34m,\u001b[0m \u001b[0mscreen\u001b[0m\u001b[0;34m,\u001b[0m \u001b[0mstacktrace\u001b[0m\u001b[0;34m,\u001b[0m \u001b[0malert_text\u001b[0m\u001b[0;34m)\u001b[0m\u001b[0;34m\u001b[0m\u001b[0;34m\u001b[0m\u001b[0m\n\u001b[0;32m--> 242\u001b[0;31m         \u001b[0;32mraise\u001b[0m \u001b[0mexception_class\u001b[0m\u001b[0;34m(\u001b[0m\u001b[0mmessage\u001b[0m\u001b[0;34m,\u001b[0m \u001b[0mscreen\u001b[0m\u001b[0;34m,\u001b[0m \u001b[0mstacktrace\u001b[0m\u001b[0;34m)\u001b[0m\u001b[0;34m\u001b[0m\u001b[0;34m\u001b[0m\u001b[0m\n\u001b[0m\u001b[1;32m    243\u001b[0m \u001b[0;34m\u001b[0m\u001b[0m\n\u001b[1;32m    244\u001b[0m     \u001b[0;32mdef\u001b[0m \u001b[0m_value_or_default\u001b[0m\u001b[0;34m(\u001b[0m\u001b[0mself\u001b[0m\u001b[0;34m,\u001b[0m \u001b[0mobj\u001b[0m\u001b[0;34m,\u001b[0m \u001b[0mkey\u001b[0m\u001b[0;34m,\u001b[0m \u001b[0mdefault\u001b[0m\u001b[0;34m)\u001b[0m\u001b[0;34m:\u001b[0m\u001b[0;34m\u001b[0m\u001b[0;34m\u001b[0m\u001b[0m\n",
      "\u001b[0;31mNoSuchElementException\u001b[0m: Message: no such element: Unable to locate element: {\"method\":\"xpath\",\"selector\":\"/html/body/c-wiz[2]/div/div/div[1]/div[2]/div/div[1]/c-wiz[4]/section/header/div/div[2]/button/i\"}\n  (Session info: chrome=103.0.5060.53)\n"
     ]
    }
   ],
   "source": [
    "start = time.time()\n",
    "reviewDict = {}\n",
    "idDict = findIds(listOfCompanies)\n",
    "getReviewsObj(idDict, 3)\n",
    "end = time.time()\n",
    "print(\"Exectution time: \"+str(end-start))\n"
   ]
  },
  {
   "cell_type": "markdown",
   "id": "e8f8f994",
   "metadata": {},
   "source": [
    "So, took about 54 seconds, just for 8 apps. But most of the blame goes to my shitty laptop. With something more powerful, its still not going to be that bad. Now the hard part, well, imm gonna try and add all those reviews I downloaded to a file. Letss see if my laptop will be able to cook food."
   ]
  },
  {
   "cell_type": "code",
   "execution_count": 12,
   "id": "2833bbdb",
   "metadata": {},
   "outputs": [
    {
     "name": "stdout",
     "output_type": "stream",
     "text": [
      "159\n"
     ]
    }
   ],
   "source": [
    "list1 = []\n",
    "reader = open('reviewData/Paytm Money')\n",
    "lines = reader.readlines()\n",
    "for line in  lines:\n",
    "    item = line[:-1]\n",
    "    if len(bs(item).text.strip())>500:\n",
    "        list1.append(item)\n",
    "print(len(list1))"
   ]
  },
  {
   "cell_type": "markdown",
   "id": "b66114be",
   "metadata": {},
   "source": [
    "Okay time for another update, well, I cant go househunting untill ajitesh returns, so I started working on the parser, and I made the code much more efficient, since its just storing the reviews now, no other crap. And it took just 320 seconds to collect about 160 reviews for each of the provided companies.\n",
    "Now Ill just try and put the parser in a function."
   ]
  },
  {
   "cell_type": "code",
   "execution_count": 20,
   "id": "038e0399",
   "metadata": {},
   "outputs": [],
   "source": [
    "def parseReviewFiles(filename):\n",
    "    reviewList = []\n",
    "    try:\n",
    "        reader = open('Test Data/'+filename)\n",
    "        lines = reader.readlines()\n",
    "    except:\n",
    "        print(\"Couldnot open file\")\n",
    "        return []\n",
    "    for line in  lines:\n",
    "        reviewDict = {}\n",
    "        item = line[:-1]\n",
    "        bsObj = bs(item)\n",
    "        if len(str(bsObj))>200:\n",
    "            try:\n",
    "                reviewDict['CustUname'] = bsObj.find_all('div', {'class':'X5PpBb'})[0].text\n",
    "#                 reviewDict['Date'] = bsObj.find_all('div', {'span':'bp9Aid'})[0].text\n",
    "                reviewDict['ReviewText'] = bsObj.find_all('div', {'class':'h3YV2d'})[0].text\n",
    "                reviewDict['Rating'] = bsObj.find_all('div', {'class':'iXRFPc'})[0]\n",
    "                reviewList.append(reviewDict)\n",
    "            except:\n",
    "                continue\n",
    "    print(len(reviewList))\n",
    "    return reviewList"
   ]
  },
  {
   "cell_type": "code",
   "execution_count": 22,
   "id": "c0cc0633",
   "metadata": {},
   "outputs": [
    {
     "name": "stdout",
     "output_type": "stream",
     "text": [
      "412\n"
     ]
    }
   ],
   "source": [
    "rl = parseReviewFiles('Paytm Money')"
   ]
  },
  {
   "cell_type": "code",
   "execution_count": 25,
   "id": "605e2304",
   "metadata": {},
   "outputs": [
    {
     "name": "stdout",
     "output_type": "stream",
     "text": [
      "CustUname : Venkat Karthik\n",
      "ReviewText : Excellent app, very user friendly and very easy to do any investment. One stop for all investments. But only challenge I face with the app is customer support. Not at all user friendly. So as long as there are no issues all will be good if issues are there then it's difficult to get resolutions for those.\n",
      "Rating : <div aria-label=\"Rated 4 stars out of five stars\" class=\"iXRFPc\" role=\"img\"><span aria-hidden=\"true\" class=\"F7XJmb\" data-number=\"1\" jsname=\"fI6EEc\"><span aria-hidden=\"true\" class=\"Z1Dz7b\"><svg viewbox=\"0 0 24 24\" xmlns=\"http://www.w3.org/2000/svg\"><path d=\"M0 0h24v24H0z\" fill=\"none\"></path><path d=\"M0 0h24v24H0z\" fill=\"none\"></path><path d=\"M12 17.27L18.18 21l-1.64-7.03L22 9.24l-7.19-.61L12 2 9.19 8.63 2 9.24l5.46 4.73L5.82 21z\"></path></svg></span></span><span aria-hidden=\"true\" class=\"F7XJmb\" data-number=\"2\" jsname=\"fI6EEc\"><span aria-hidden=\"true\" class=\"Z1Dz7b\"><svg viewbox=\"0 0 24 24\" xmlns=\"http://www.w3.org/2000/svg\"><path d=\"M0 0h24v24H0z\" fill=\"none\"></path><path d=\"M0 0h24v24H0z\" fill=\"none\"></path><path d=\"M12 17.27L18.18 21l-1.64-7.03L22 9.24l-7.19-.61L12 2 9.19 8.63 2 9.24l5.46 4.73L5.82 21z\"></path></svg></span></span><span aria-hidden=\"true\" class=\"F7XJmb\" data-number=\"3\" jsname=\"fI6EEc\"><span aria-hidden=\"true\" class=\"Z1Dz7b\"><svg viewbox=\"0 0 24 24\" xmlns=\"http://www.w3.org/2000/svg\"><path d=\"M0 0h24v24H0z\" fill=\"none\"></path><path d=\"M0 0h24v24H0z\" fill=\"none\"></path><path d=\"M12 17.27L18.18 21l-1.64-7.03L22 9.24l-7.19-.61L12 2 9.19 8.63 2 9.24l5.46 4.73L5.82 21z\"></path></svg></span></span><span aria-hidden=\"true\" class=\"F7XJmb\" data-number=\"4\" jsname=\"fI6EEc\"><span aria-hidden=\"true\" class=\"Z1Dz7b\"><svg viewbox=\"0 0 24 24\" xmlns=\"http://www.w3.org/2000/svg\"><path d=\"M0 0h24v24H0z\" fill=\"none\"></path><path d=\"M0 0h24v24H0z\" fill=\"none\"></path><path d=\"M12 17.27L18.18 21l-1.64-7.03L22 9.24l-7.19-.61L12 2 9.19 8.63 2 9.24l5.46 4.73L5.82 21z\"></path></svg></span></span><span aria-hidden=\"true\" class=\"F7XJmb\" data-number=\"5\" jsname=\"fI6EEc\"><span aria-hidden=\"true\" class=\"Wi7KIe\"><svg viewbox=\"0 0 24 24\" xmlns=\"http://www.w3.org/2000/svg\"><path d=\"M0 0h24v24H0z\" fill=\"none\"></path><path d=\"M0 0h24v24H0z\" fill=\"none\"></path><path d=\"M12 17.27L18.18 21l-1.64-7.03L22 9.24l-7.19-.61L12 2 9.19 8.63 2 9.24l5.46 4.73L5.82 21z\"></path></svg></span></span></div>\n"
     ]
    }
   ],
   "source": [
    "for key, val in rl[0].items():\n",
    "    print(key+\" : \"+str(val))"
   ]
  },
  {
   "cell_type": "code",
   "execution_count": 46,
   "id": "40d0a383",
   "metadata": {},
   "outputs": [],
   "source": [
    "# X5PpBb UNAME\n",
    "# iXRFPc star (use lable)\n",
    "# bp9Aid date(span)\n",
    "# h3YV2d review\n",
    "# ras4vb reply\n",
    "# I9Jtec reply date"
   ]
  },
  {
   "cell_type": "code",
   "execution_count": null,
   "id": "7e81f970",
   "metadata": {},
   "outputs": [],
   "source": []
  }
 ],
 "metadata": {
  "kernelspec": {
   "display_name": "Python 3 (ipykernel)",
   "language": "python",
   "name": "python3"
  },
  "language_info": {
   "codemirror_mode": {
    "name": "ipython",
    "version": 3
   },
   "file_extension": ".py",
   "mimetype": "text/x-python",
   "name": "python",
   "nbconvert_exporter": "python",
   "pygments_lexer": "ipython3",
   "version": "3.10.4"
  }
 },
 "nbformat": 4,
 "nbformat_minor": 5
}
